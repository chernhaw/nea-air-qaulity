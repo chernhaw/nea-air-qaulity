{
 "cells": [
  {
   "cell_type": "code",
   "execution_count": 64,
   "id": "06fc4883-28b1-4953-b4d0-b8b83f04734c",
   "metadata": {},
   "outputs": [
    {
     "name": "stdout",
     "output_type": "stream",
     "text": [
      "Current directory: /Users/tongchernhaw/Desktop/NEA Air\n"
     ]
    }
   ],
   "source": [
    "import pandas as pd\n",
    "import json\n",
    "import os\n",
    "\n",
    "current_dir = os.getcwd()\n",
    "print(\"Current directory:\", current_dir)"
   ]
  },
  {
   "cell_type": "markdown",
   "id": "feb9c7b1",
   "metadata": {},
   "source": [
    "https://data.gov.sg/datasets?query=psi&page=1&resultId=d_fe37906a0182569d891506e815e819b7\n",
    "\n"
   ]
  },
  {
   "cell_type": "code",
   "execution_count": 65,
   "id": "cbb70239-3a49-4684-9ce4-4a464ee19ae2",
   "metadata": {},
   "outputs": [],
   "source": [
    "with open (\"response.json\",\"r\") as f:\n",
    "    psi24hr = json.load(f)"
   ]
  },
  {
   "cell_type": "code",
   "execution_count": 66,
   "id": "14b2060e",
   "metadata": {},
   "outputs": [
    {
     "name": "stdout",
     "output_type": "stream",
     "text": [
      "   code errorMsg                                data.regionMetadata  \\\n",
      "0     0           [{'name': 'west', 'labelLocation': {'latitude'...   \n",
      "\n",
      "                                          data.items  \n",
      "0  [{'date': '2024-07-25', 'updatedTimestamp': '2...  \n"
     ]
    }
   ],
   "source": [
    "df = pd.json_normalize(psi24hr)\n",
    "\n",
    "print(df.head())"
   ]
  },
  {
   "cell_type": "markdown",
   "id": "f4884649",
   "metadata": {},
   "source": [
    "Current reading"
   ]
  },
  {
   "cell_type": "code",
   "execution_count": 67,
   "id": "2e824b11",
   "metadata": {},
   "outputs": [
    {
     "name": "stdout",
     "output_type": "stream",
     "text": [
      "{'code': 0, 'data': {'regionMetadata': [{'name': 'west', 'labelLocation': {'latitude': 1.35735, 'longitude': 103.7}}, {'name': 'east', 'labelLocation': {'latitude': 1.35735, 'longitude': 103.94}}, {'name': 'central', 'labelLocation': {'latitude': 1.35735, 'longitude': 103.82}}, {'name': 'south', 'labelLocation': {'latitude': 1.29587, 'longitude': 103.82}}, {'name': 'north', 'labelLocation': {'latitude': 1.41803, 'longitude': 103.82}}], 'items': [{'date': '2025-07-10', 'updatedTimestamp': '2025-07-10T14:30:49+08:00', 'timestamp': '2025-07-10T14:00:00+08:00', 'readings': {'o3_sub_index': {'west': 5, 'east': 11, 'central': 5, 'south': 4, 'north': 10}, 'no2_one_hour_max': {'west': 21, 'east': 15, 'central': 12, 'south': 11, 'north': 16}, 'o3_eight_hour_max': {'west': 12, 'east': 26, 'central': 12, 'south': 11, 'north': 25}, 'psi_twenty_four_hourly': {'west': 54, 'east': 40, 'central': 52, 'south': 40, 'north': 47}, 'pm10_twenty_four_hourly': {'west': 24, 'east': 20, 'central': 23, 'south': 20, 'north': 16}, 'pm10_sub_index': {'west': 24, 'east': 20, 'central': 23, 'south': 20, 'north': 16}, 'pm25_twenty_four_hourly': {'west': 14, 'east': 10, 'central': 13, 'south': 10, 'north': 11}, 'so2_sub_index': {'west': 3, 'east': 2, 'central': 3, 'south': 2, 'north': 3}, 'pm25_sub_index': {'west': 54, 'east': 40, 'central': 52, 'south': 40, 'north': 47}, 'so2_twenty_four_hourly': {'west': 5, 'east': 3, 'central': 4, 'south': 3, 'north': 5}, 'co_eight_hour_max': {'west': 0, 'east': 0, 'central': 0, 'south': 0, 'north': 0}, 'co_sub_index': {'west': 3, 'east': 4, 'central': 4, 'south': 3, 'north': 3}}}]}, 'errorMsg': ''}\n",
      "   west  east  central  south  north                  timestamp\n",
      "0     3     4        4      3      3  2025-07-10T14:00:00+08:00\n"
     ]
    }
   ],
   "source": [
    "import requests\n",
    "import pandas as pd\n",
    "\n",
    "# Step 1: Define the API endpoint\n",
    "\n",
    "url =\"https://api-open.data.gov.sg/v2/real-time/api/psi\"\n",
    "\n",
    "# Step 2: Make the GET request\n",
    "response = requests.get(url)\n",
    "response.raise_for_status()  # raise error if request failed\n",
    "\n",
    "# Step 3: Parse the JSON response\n",
    "data = response.json()\n",
    "\n",
    "print(data)\n",
    "# Step 4: Extract readings from the first item\n",
    "items = data[\"data\"][\"items\"]\n",
    "readings_list = []\n",
    "\n",
    "for item in items:\n",
    "    date = item[\"timestamp\"]\n",
    "    readings = item[\"readings\"][\"co_sub_index\"]\n",
    "    readings[\"timestamp\"] = date\n",
    "    readings_list.append(readings)\n",
    "\n",
    "# Step 5: Create DataFrame\n",
    "df = pd.DataFrame(readings_list)\n",
    "\n",
    "print(df)\n"
   ]
  },
  {
   "cell_type": "code",
   "execution_count": 68,
   "id": "278cd41e-fd57-47cb-9969-552d82eeb0fc",
   "metadata": {},
   "outputs": [
    {
     "data": {
      "text/html": [
       "<div>\n",
       "<style scoped>\n",
       "    .dataframe tbody tr th:only-of-type {\n",
       "        vertical-align: middle;\n",
       "    }\n",
       "\n",
       "    .dataframe tbody tr th {\n",
       "        vertical-align: top;\n",
       "    }\n",
       "\n",
       "    .dataframe thead th {\n",
       "        text-align: right;\n",
       "    }\n",
       "</style>\n",
       "<table border=\"1\" class=\"dataframe\">\n",
       "  <thead>\n",
       "    <tr style=\"text-align: right;\">\n",
       "      <th></th>\n",
       "      <th>west</th>\n",
       "      <th>east</th>\n",
       "      <th>central</th>\n",
       "      <th>south</th>\n",
       "      <th>north</th>\n",
       "      <th>timestamp</th>\n",
       "    </tr>\n",
       "  </thead>\n",
       "  <tbody>\n",
       "    <tr>\n",
       "      <th>0</th>\n",
       "      <td>3</td>\n",
       "      <td>4</td>\n",
       "      <td>4</td>\n",
       "      <td>3</td>\n",
       "      <td>3</td>\n",
       "      <td>2025-07-10T14:00:00+08:00</td>\n",
       "    </tr>\n",
       "  </tbody>\n",
       "</table>\n",
       "</div>"
      ],
      "text/plain": [
       "   west  east  central  south  north                  timestamp\n",
       "0     3     4        4      3      3  2025-07-10T14:00:00+08:00"
      ]
     },
     "execution_count": 68,
     "metadata": {},
     "output_type": "execute_result"
    }
   ],
   "source": [
    "\n",
    "df.tail()\n"
   ]
  },
  {
   "cell_type": "code",
   "execution_count": 69,
   "id": "9c365347-ef75-41a9-8474-7ea6366d5824",
   "metadata": {},
   "outputs": [],
   "source": [
    "row = df.iloc[0]"
   ]
  },
  {
   "cell_type": "code",
   "execution_count": 70,
   "id": "62ec4b0c-677d-43c5-9c68-09ceb9af20cf",
   "metadata": {},
   "outputs": [
    {
     "data": {
      "text/plain": [
       "west                                 3\n",
       "east                                 4\n",
       "central                              4\n",
       "south                                3\n",
       "north                                3\n",
       "timestamp    2025-07-10T14:00:00+08:00\n",
       "Name: 0, dtype: object"
      ]
     },
     "execution_count": 70,
     "metadata": {},
     "output_type": "execute_result"
    }
   ],
   "source": [
    "row"
   ]
  },
  {
   "cell_type": "code",
   "execution_count": 71,
   "id": "d905d892",
   "metadata": {},
   "outputs": [
    {
     "data": {
      "text/html": [
       "<div>\n",
       "<style scoped>\n",
       "    .dataframe tbody tr th:only-of-type {\n",
       "        vertical-align: middle;\n",
       "    }\n",
       "\n",
       "    .dataframe tbody tr th {\n",
       "        vertical-align: top;\n",
       "    }\n",
       "\n",
       "    .dataframe thead th {\n",
       "        text-align: right;\n",
       "    }\n",
       "</style>\n",
       "<table border=\"1\" class=\"dataframe\">\n",
       "  <thead>\n",
       "    <tr style=\"text-align: right;\">\n",
       "      <th></th>\n",
       "      <th>west</th>\n",
       "      <th>east</th>\n",
       "      <th>central</th>\n",
       "      <th>south</th>\n",
       "      <th>north</th>\n",
       "      <th>timestamp</th>\n",
       "    </tr>\n",
       "  </thead>\n",
       "  <tbody>\n",
       "    <tr>\n",
       "      <th>0</th>\n",
       "      <td>3</td>\n",
       "      <td>4</td>\n",
       "      <td>4</td>\n",
       "      <td>3</td>\n",
       "      <td>3</td>\n",
       "      <td>2025-07-10T14:00:00+08:00</td>\n",
       "    </tr>\n",
       "  </tbody>\n",
       "</table>\n",
       "</div>"
      ],
      "text/plain": [
       "   west  east  central  south  north                  timestamp\n",
       "0     3     4        4      3      3  2025-07-10T14:00:00+08:00"
      ]
     },
     "execution_count": 71,
     "metadata": {},
     "output_type": "execute_result"
    }
   ],
   "source": [
    "df"
   ]
  },
  {
   "cell_type": "code",
   "execution_count": 72,
   "id": "53847dba",
   "metadata": {},
   "outputs": [
    {
     "name": "stdout",
     "output_type": "stream",
     "text": [
      "{'code': 0, 'data': {'regionMetadata': [{'name': 'west', 'labelLocation': {'latitude': 1.35735, 'longitude': 103.7}}, {'name': 'east', 'labelLocation': {'latitude': 1.35735, 'longitude': 103.94}}, {'name': 'central', 'labelLocation': {'latitude': 1.35735, 'longitude': 103.82}}, {'name': 'south', 'labelLocation': {'latitude': 1.29587, 'longitude': 103.82}}, {'name': 'north', 'labelLocation': {'latitude': 1.41803, 'longitude': 103.82}}], 'items': [{'date': '2024-07-16', 'updatedTimestamp': '2024-07-16T23:45:45+08:00', 'timestamp': '2024-07-16T23:00:00+08:00', 'readings': {'o3_sub_index': {'west': 12, 'east': 16, 'central': 13, 'south': 9, 'north': 5}, 'no2_one_hour_max': {'west': 18, 'east': 21, 'central': 30, 'south': 12, 'north': 14}, 'o3_eight_hour_max': {'west': 27, 'east': 37, 'central': 32, 'south': 20, 'north': 13}, 'psi_twenty_four_hourly': {'west': 60, 'east': 56, 'central': 57, 'south': 52, 'north': 52}, 'pm10_twenty_four_hourly': {'west': 32, 'east': 38, 'central': 40, 'south': 26, 'north': 23}, 'pm10_sub_index': {'west': 32, 'east': 38, 'central': 40, 'south': 26, 'north': 23}, 'pm25_twenty_four_hourly': {'west': 20, 'east': 16, 'central': 18, 'south': 13, 'north': 13}, 'so2_sub_index': {'west': 6, 'east': 1, 'central': 4, 'south': 1, 'north': 2}, 'pm25_sub_index': {'west': 60, 'east': 56, 'central': 57, 'south': 52, 'north': 52}, 'so2_twenty_four_hourly': {'west': 10, 'east': 2, 'central': 7, 'south': 2, 'north': 4}, 'co_eight_hour_max': {'west': 0, 'east': 0, 'central': 0, 'south': 0, 'north': 1}, 'co_sub_index': {'west': 3, 'east': 4, 'central': 2, 'south': 3, 'north': 8}}}, {'date': '2024-07-16', 'updatedTimestamp': '2024-07-16T22:45:55+08:00', 'timestamp': '2024-07-16T22:00:00+08:00', 'readings': {'o3_sub_index': {'west': 12, 'east': 17, 'central': 14, 'south': 9, 'north': 6}, 'no2_one_hour_max': {'west': 25, 'east': 23, 'central': 35, 'south': 13, 'north': 18}, 'o3_eight_hour_max': {'west': 28, 'east': 39, 'central': 32, 'south': 21, 'north': 14}, 'psi_twenty_four_hourly': {'west': 60, 'east': 56, 'central': 57, 'south': 52, 'north': 52}, 'pm10_twenty_four_hourly': {'west': 32, 'east': 37, 'central': 40, 'south': 26, 'north': 22}, 'pm10_sub_index': {'west': 32, 'east': 37, 'central': 40, 'south': 26, 'north': 22}, 'pm25_twenty_four_hourly': {'west': 20, 'east': 16, 'central': 17, 'south': 13, 'north': 13}, 'so2_sub_index': {'west': 6, 'east': 1, 'central': 4, 'south': 1, 'north': 2}, 'pm25_sub_index': {'west': 60, 'east': 56, 'central': 57, 'south': 52, 'north': 52}, 'so2_twenty_four_hourly': {'west': 10, 'east': 2, 'central': 7, 'south': 2, 'north': 4}, 'co_eight_hour_max': {'west': 0, 'east': 0, 'central': 0, 'south': 0, 'north': 1}, 'co_sub_index': {'west': 3, 'east': 4, 'central': 3, 'south': 3, 'north': 8}}}, {'date': '2024-07-16', 'updatedTimestamp': '2024-07-16T21:45:52+08:00', 'timestamp': '2024-07-16T21:00:00+08:00', 'readings': {'o3_sub_index': {'west': 12, 'east': 18, 'central': 14, 'south': 9, 'north': 7}, 'no2_one_hour_max': {'west': 32, 'east': 21, 'central': 34, 'south': 13, 'north': 16}, 'o3_eight_hour_max': {'west': 29, 'east': 41, 'central': 33, 'south': 22, 'north': 16}, 'psi_twenty_four_hourly': {'west': 60, 'east': 56, 'central': 56, 'south': 52, 'north': 52}, 'pm10_twenty_four_hourly': {'west': 31, 'east': 37, 'central': 40, 'south': 27, 'north': 23}, 'pm10_sub_index': {'west': 31, 'east': 37, 'central': 40, 'south': 27, 'north': 23}, 'pm25_twenty_four_hourly': {'west': 20, 'east': 16, 'central': 17, 'south': 13, 'north': 13}, 'so2_sub_index': {'west': 6, 'east': 1, 'central': 4, 'south': 1, 'north': 2}, 'pm25_sub_index': {'west': 60, 'east': 56, 'central': 56, 'south': 52, 'north': 52}, 'so2_twenty_four_hourly': {'west': 10, 'east': 2, 'central': 7, 'south': 2, 'north': 4}, 'co_eight_hour_max': {'west': 0, 'east': 0, 'central': 0, 'south': 0, 'north': 1}, 'co_sub_index': {'west': 3, 'east': 4, 'central': 3, 'south': 3, 'north': 8}}}, {'date': '2024-07-16', 'updatedTimestamp': '2024-07-16T20:45:55+08:00', 'timestamp': '2024-07-16T20:00:00+08:00', 'readings': {'o3_sub_index': {'west': 13, 'east': 18, 'central': 14, 'south': 10, 'north': 7}, 'no2_one_hour_max': {'west': 29, 'east': 18, 'central': 34, 'south': 13, 'north': 14}, 'o3_eight_hour_max': {'west': 31, 'east': 43, 'central': 34, 'south': 23, 'north': 17}, 'psi_twenty_four_hourly': {'west': 60, 'east': 56, 'central': 56, 'south': 53, 'north': 52}, 'pm10_twenty_four_hourly': {'west': 31, 'east': 37, 'central': 39, 'south': 27, 'north': 23}, 'pm10_sub_index': {'west': 31, 'east': 37, 'central': 39, 'south': 27, 'north': 23}, 'pm25_twenty_four_hourly': {'west': 20, 'east': 17, 'central': 17, 'south': 13, 'north': 13}, 'so2_sub_index': {'west': 6, 'east': 1, 'central': 4, 'south': 1, 'north': 2}, 'pm25_sub_index': {'west': 60, 'east': 56, 'central': 56, 'south': 53, 'north': 52}, 'so2_twenty_four_hourly': {'west': 10, 'east': 2, 'central': 7, 'south': 2, 'north': 4}, 'co_eight_hour_max': {'west': 0, 'east': 0, 'central': 0, 'south': 0, 'north': 1}, 'co_sub_index': {'west': 3, 'east': 4, 'central': 3, 'south': 3, 'north': 8}}}, {'date': '2024-07-16', 'updatedTimestamp': '2024-07-16T19:46:04+08:00', 'timestamp': '2024-07-16T19:00:00+08:00', 'readings': {'o3_sub_index': {'west': 13, 'east': 19, 'central': 15, 'south': 10, 'north': 7}, 'no2_one_hour_max': {'west': 28, 'east': 18, 'central': 38, 'south': 11, 'north': 14}, 'o3_eight_hour_max': {'west': 32, 'east': 44, 'central': 34, 'south': 23, 'north': 17}, 'psi_twenty_four_hourly': {'west': 59, 'east': 56, 'central': 56, 'south': 52, 'north': 52}, 'pm10_twenty_four_hourly': {'west': 31, 'east': 37, 'central': 39, 'south': 26, 'north': 22}, 'pm10_sub_index': {'west': 31, 'east': 37, 'central': 39, 'south': 26, 'north': 22}, 'pm25_twenty_four_hourly': {'west': 19, 'east': 16, 'central': 17, 'south': 13, 'north': 13}, 'so2_sub_index': {'west': 6, 'east': 1, 'central': 4, 'south': 1, 'north': 2}, 'pm25_sub_index': {'west': 59, 'east': 56, 'central': 56, 'south': 52, 'north': 52}, 'so2_twenty_four_hourly': {'west': 10, 'east': 2, 'central': 7, 'south': 2, 'north': 4}, 'co_eight_hour_max': {'west': 0, 'east': 0, 'central': 0, 'south': 0, 'north': 1}, 'co_sub_index': {'west': 3, 'east': 4, 'central': 2, 'south': 3, 'north': 8}}}, {'date': '2024-07-16', 'updatedTimestamp': '2024-07-16T18:46:02+08:00', 'timestamp': '2024-07-16T18:00:00+08:00', 'readings': {'o3_sub_index': {'west': 14, 'east': 19, 'central': 14, 'south': 10, 'north': 7}, 'no2_one_hour_max': {'west': 21, 'east': 14, 'central': 36, 'south': 10, 'north': 11}, 'o3_eight_hour_max': {'west': 32, 'east': 45, 'central': 34, 'south': 23, 'north': 16}, 'psi_twenty_four_hourly': {'west': 59, 'east': 56, 'central': 57, 'south': 52, 'north': 49}, 'pm10_twenty_four_hourly': {'west': 31, 'east': 37, 'central': 39, 'south': 26, 'north': 22}, 'pm10_sub_index': {'west': 31, 'east': 37, 'central': 39, 'south': 26, 'north': 22}, 'pm25_twenty_four_hourly': {'west': 19, 'east': 16, 'central': 17, 'south': 13, 'north': 12}, 'so2_sub_index': {'west': 6, 'east': 1, 'central': 4, 'south': 1, 'north': 2}, 'pm25_sub_index': {'west': 59, 'east': 56, 'central': 57, 'south': 52, 'north': 49}, 'so2_twenty_four_hourly': {'west': 10, 'east': 2, 'central': 7, 'south': 2, 'north': 3}, 'co_eight_hour_max': {'west': 0, 'east': 0, 'central': 0, 'south': 0, 'north': 1}, 'co_sub_index': {'west': 3, 'east': 4, 'central': 2, 'south': 3, 'north': 8}}}, {'date': '2024-07-16', 'updatedTimestamp': '2024-07-16T17:45:54+08:00', 'timestamp': '2024-07-16T17:00:00+08:00', 'readings': {'o3_sub_index': {'west': 13, 'east': 19, 'central': 14, 'south': 9, 'north': 7}, 'no2_one_hour_max': {'west': 20, 'east': 14, 'central': 33, 'south': 10, 'north': 11}, 'o3_eight_hour_max': {'west': 31, 'east': 44, 'central': 33, 'south': 22, 'north': 16}, 'psi_twenty_four_hourly': {'west': 59, 'east': 56, 'central': 57, 'south': 51, 'north': 48}, 'pm10_twenty_four_hourly': {'west': 31, 'east': 37, 'central': 39, 'south': 26, 'north': 22}, 'pm10_sub_index': {'west': 31, 'east': 37, 'central': 39, 'south': 26, 'north': 22}, 'pm25_twenty_four_hourly': {'west': 19, 'east': 16, 'central': 17, 'south': 13, 'north': 11}, 'so2_sub_index': {'west': 6, 'east': 1, 'central': 4, 'south': 1, 'north': 2}, 'pm25_sub_index': {'west': 59, 'east': 56, 'central': 57, 'south': 51, 'north': 48}, 'so2_twenty_four_hourly': {'west': 10, 'east': 2, 'central': 7, 'south': 2, 'north': 3}, 'co_eight_hour_max': {'west': 0, 'east': 0, 'central': 0, 'south': 0, 'north': 1}, 'co_sub_index': {'west': 3, 'east': 5, 'central': 2, 'south': 3, 'north': 8}}}, {'date': '2024-07-16', 'updatedTimestamp': '2024-07-16T16:45:57+08:00', 'timestamp': '2024-07-16T16:00:00+08:00', 'readings': {'o3_sub_index': {'west': 12, 'east': 18, 'central': 13, 'south': 9, 'north': 7}, 'no2_one_hour_max': {'west': 22, 'east': 11, 'central': 34, 'south': 11, 'north': 7}, 'o3_eight_hour_max': {'west': 29, 'east': 42, 'central': 31, 'south': 21, 'north': 17}, 'psi_twenty_four_hourly': {'west': 59, 'east': 56, 'central': 57, 'south': 51, 'north': 48}, 'pm10_twenty_four_hourly': {'west': 31, 'east': 37, 'central': 39, 'south': 27, 'north': 23}, 'pm10_sub_index': {'west': 31, 'east': 37, 'central': 39, 'south': 27, 'north': 23}, 'pm25_twenty_four_hourly': {'west': 19, 'east': 16, 'central': 18, 'south': 12, 'north': 11}, 'so2_sub_index': {'west': 6, 'east': 1, 'central': 4, 'south': 1, 'north': 2}, 'pm25_sub_index': {'west': 59, 'east': 56, 'central': 57, 'south': 51, 'north': 48}, 'so2_twenty_four_hourly': {'west': 10, 'east': 2, 'central': 7, 'south': 2, 'north': 3}, 'co_eight_hour_max': {'west': 0, 'east': 0, 'central': 0, 'south': 0, 'north': 1}, 'co_sub_index': {'west': 3, 'east': 5, 'central': 2, 'south': 3, 'north': 7}}}, {'date': '2024-07-16', 'updatedTimestamp': '2024-07-16T15:46:00+08:00', 'timestamp': '2024-07-16T15:00:00+08:00', 'readings': {'o3_sub_index': {'west': 12, 'east': 17, 'central': 12, 'south': 8, 'north': 8}, 'no2_one_hour_max': {'west': 22, 'east': 11, 'central': 31, 'south': 11, 'north': 7}, 'o3_eight_hour_max': {'west': 28, 'east': 40, 'central': 29, 'south': 20, 'north': 18}, 'psi_twenty_four_hourly': {'west': 59, 'east': 56, 'central': 58, 'south': 52, 'north': 49}, 'pm10_twenty_four_hourly': {'west': 31, 'east': 37, 'central': 39, 'south': 27, 'north': 23}, 'pm10_sub_index': {'west': 31, 'east': 37, 'central': 39, 'south': 27, 'north': 23}, 'pm25_twenty_four_hourly': {'west': 20, 'east': 17, 'central': 18, 'south': 13, 'north': 12}, 'so2_sub_index': {'west': 6, 'east': 1, 'central': 4, 'south': 1, 'north': 2}, 'pm25_sub_index': {'west': 59, 'east': 56, 'central': 58, 'south': 52, 'north': 49}, 'so2_twenty_four_hourly': {'west': 10, 'east': 2, 'central': 7, 'south': 2, 'north': 3}, 'co_eight_hour_max': {'west': 0, 'east': 0, 'central': 0, 'south': 0, 'north': 1}, 'co_sub_index': {'west': 3, 'east': 5, 'central': 2, 'south': 3, 'north': 6}}}, {'date': '2024-07-16', 'updatedTimestamp': '2024-07-16T14:45:59+08:00', 'timestamp': '2024-07-16T14:00:00+08:00', 'readings': {'o3_sub_index': {'west': 11, 'east': 16, 'central': 12, 'south': 8, 'north': 8}, 'no2_one_hour_max': {'west': 16, 'east': 12, 'central': 32, 'south': 11, 'north': 10}, 'o3_eight_hour_max': {'west': 27, 'east': 38, 'central': 29, 'south': 19, 'north': 20}, 'psi_twenty_four_hourly': {'west': 60, 'east': 56, 'central': 58, 'south': 52, 'north': 51}, 'pm10_twenty_four_hourly': {'west': 31, 'east': 38, 'central': 39, 'south': 26, 'north': 24}, 'pm10_sub_index': {'west': 31, 'east': 38, 'central': 39, 'south': 26, 'north': 24}, 'pm25_twenty_four_hourly': {'west': 20, 'east': 17, 'central': 19, 'south': 13, 'north': 12}, 'so2_sub_index': {'west': 6, 'east': 1, 'central': 4, 'south': 1, 'north': 2}, 'pm25_sub_index': {'west': 60, 'east': 56, 'central': 58, 'south': 52, 'north': 51}, 'so2_twenty_four_hourly': {'west': 10, 'east': 2, 'central': 7, 'south': 2, 'north': 3}, 'co_eight_hour_max': {'west': 0, 'east': 0, 'central': 0, 'south': 0, 'north': 1}, 'co_sub_index': {'west': 4, 'east': 5, 'central': 2, 'south': 3, 'north': 5}}}, {'date': '2024-07-16', 'updatedTimestamp': '2024-07-16T13:45:54+08:00', 'timestamp': '2024-07-16T13:00:00+08:00', 'readings': {'o3_sub_index': {'west': 10, 'east': 15, 'central': 12, 'south': 8, 'north': 8}, 'no2_one_hour_max': {'west': 16, 'east': 13, 'central': 36, 'south': 12, 'north': 11}, 'o3_eight_hour_max': {'west': 24, 'east': 36, 'central': 29, 'south': 18, 'north': 20}, 'psi_twenty_four_hourly': {'west': 60, 'east': 57, 'central': 58, 'south': 52, 'north': 51}, 'pm10_twenty_four_hourly': {'west': 32, 'east': 38, 'central': 39, 'south': 27, 'north': 24}, 'pm10_sub_index': {'west': 32, 'east': 38, 'central': 39, 'south': 27, 'north': 24}, 'pm25_twenty_four_hourly': {'west': 20, 'east': 17, 'central': 19, 'south': 13, 'north': 12}, 'so2_sub_index': {'west': 6, 'east': 1, 'central': 4, 'south': 1, 'north': 2}, 'pm25_sub_index': {'west': 60, 'east': 57, 'central': 58, 'south': 52, 'north': 51}, 'so2_twenty_four_hourly': {'west': 10, 'east': 2, 'central': 7, 'south': 2, 'north': 3}, 'co_eight_hour_max': {'west': 0, 'east': 0, 'central': 0, 'south': 0, 'north': 1}, 'co_sub_index': {'west': 4, 'east': 5, 'central': 2, 'south': 3, 'north': 5}}}, {'date': '2024-07-16', 'updatedTimestamp': '2024-07-16T12:45:51+08:00', 'timestamp': '2024-07-16T12:00:00+08:00', 'readings': {'o3_sub_index': {'west': 9, 'east': 15, 'central': 12, 'south': 7, 'north': 9}, 'no2_one_hour_max': {'west': 17, 'east': 18, 'central': 37, 'south': 12, 'north': 15}, 'o3_eight_hour_max': {'west': 22, 'east': 34, 'central': 29, 'south': 18, 'north': 21}, 'psi_twenty_four_hourly': {'west': 60, 'east': 56, 'central': 58, 'south': 52, 'north': 52}, 'pm10_twenty_four_hourly': {'west': 32, 'east': 39, 'central': 39, 'south': 27, 'north': 25}, 'pm10_sub_index': {'west': 32, 'east': 39, 'central': 39, 'south': 27, 'north': 25}, 'pm25_twenty_four_hourly': {'west': 20, 'east': 17, 'central': 19, 'south': 13, 'north': 13}, 'so2_sub_index': {'west': 6, 'east': 1, 'central': 4, 'south': 1, 'north': 2}, 'pm25_sub_index': {'west': 60, 'east': 56, 'central': 58, 'south': 52, 'north': 52}, 'so2_twenty_four_hourly': {'west': 9, 'east': 2, 'central': 7, 'south': 2, 'north': 3}, 'co_eight_hour_max': {'west': 0, 'east': 0, 'central': 0, 'south': 0, 'north': 1}, 'co_sub_index': {'west': 4, 'east': 4, 'central': 2, 'south': 3, 'north': 5}}}, {'date': '2024-07-16', 'updatedTimestamp': '2024-07-17T17:53:27+08:00', 'timestamp': '2024-07-16T11:00:00+08:00', 'readings': {'o3_sub_index': {'west': 8, 'east': 14, 'central': 12, 'south': 7, 'north': 9}, 'no2_one_hour_max': {'west': 23, 'east': 21, 'central': 42, 'south': 13, 'north': 19}, 'o3_eight_hour_max': {'west': 20, 'east': 33, 'central': 29, 'south': 17, 'north': 22}, 'psi_twenty_four_hourly': {'west': 61, 'east': 57, 'central': 59, 'south': 52, 'north': 52}, 'pm10_twenty_four_hourly': {'west': 32, 'east': 39, 'central': 40, 'south': 27, 'north': 26}, 'pm10_sub_index': {'west': 32, 'east': 39, 'central': 40, 'south': 27, 'north': 26}, 'pm25_twenty_four_hourly': {'west': 21, 'east': 17, 'central': 19, 'south': 13, 'north': 13}, 'so2_sub_index': {'west': 6, 'east': 1, 'central': 4, 'south': 1, 'north': 2}, 'pm25_sub_index': {'west': 61, 'east': 57, 'central': 59, 'south': 52, 'north': 52}, 'so2_twenty_four_hourly': {'west': 10, 'east': 2, 'central': 7, 'south': 2, 'north': 3}, 'co_eight_hour_max': {'west': 0, 'east': 0, 'central': 0, 'south': 0, 'north': 0}, 'co_sub_index': {'west': 4, 'east': 4, 'central': 2, 'south': 3, 'north': 5}}}, {'date': '2024-07-16', 'updatedTimestamp': '2024-07-17T17:53:26+08:00', 'timestamp': '2024-07-16T10:00:00+08:00', 'readings': {'o3_sub_index': {'west': 8, 'east': 14, 'central': 13, 'south': 7, 'north': 10}, 'no2_one_hour_max': {'west': 27, 'east': 23, 'central': 44, 'south': 13, 'north': 23}, 'o3_eight_hour_max': {'west': 18, 'east': 32, 'central': 30, 'south': 17, 'north': 23}, 'psi_twenty_four_hourly': {'west': 61, 'east': 57, 'central': 59, 'south': 53, 'north': 53}, 'pm10_twenty_four_hourly': {'west': 33, 'east': 39, 'central': 40, 'south': 27, 'north': 26}, 'pm10_sub_index': {'west': 33, 'east': 39, 'central': 40, 'south': 27, 'north': 26}, 'pm25_twenty_four_hourly': {'west': 21, 'east': 17, 'central': 19, 'south': 14, 'north': 14}, 'so2_sub_index': {'west': 6, 'east': 1, 'central': 4, 'south': 1, 'north': 2}, 'pm25_sub_index': {'west': 61, 'east': 57, 'central': 59, 'south': 53, 'north': 53}, 'so2_twenty_four_hourly': {'west': 10, 'east': 2, 'central': 7, 'south': 2, 'north': 3}, 'co_eight_hour_max': {'west': 0, 'east': 0, 'central': 0, 'south': 0, 'north': 0}, 'co_sub_index': {'west': 4, 'east': 4, 'central': 2, 'south': 3, 'north': 5}}}, {'date': '2024-07-16', 'updatedTimestamp': '2024-07-17T17:53:26+08:00', 'timestamp': '2024-07-16T09:00:00+08:00', 'readings': {'o3_sub_index': {'west': 8, 'east': 14, 'central': 13, 'south': 7, 'north': 10}, 'no2_one_hour_max': {'west': 31, 'east': 28, 'central': 44, 'south': 12, 'north': 44}, 'o3_eight_hour_max': {'west': 19, 'east': 32, 'central': 30, 'south': 17, 'north': 24}, 'psi_twenty_four_hourly': {'west': 61, 'east': 57, 'central': 59, 'south': 53, 'north': 53}, 'pm10_twenty_four_hourly': {'west': 33, 'east': 39, 'central': 41, 'south': 29, 'north': 26}, 'pm10_sub_index': {'west': 33, 'east': 39, 'central': 41, 'south': 29, 'north': 26}, 'pm25_twenty_four_hourly': {'west': 21, 'east': 17, 'central': 19, 'south': 14, 'north': 14}, 'so2_sub_index': {'west': 6, 'east': 1, 'central': 4, 'south': 1, 'north': 2}, 'pm25_sub_index': {'west': 61, 'east': 57, 'central': 59, 'south': 53, 'north': 53}, 'so2_twenty_four_hourly': {'west': 10, 'east': 2, 'central': 6, 'south': 2, 'north': 3}, 'co_eight_hour_max': {'west': 0, 'east': 0, 'central': 0, 'south': 0, 'north': 1}, 'co_sub_index': {'west': 4, 'east': 4, 'central': 1, 'south': 3, 'north': 5}}}, {'date': '2024-07-16', 'updatedTimestamp': '2024-07-17T17:53:26+08:00', 'timestamp': '2024-07-16T08:00:00+08:00', 'readings': {'o3_sub_index': {'west': 9, 'east': 13, 'central': 13, 'south': 7, 'north': 10}, 'no2_one_hour_max': {'west': 25, 'east': 29, 'central': 34, 'south': 12, 'north': 34}, 'o3_eight_hour_max': {'west': 21, 'east': 32, 'central': 32, 'south': 17, 'north': 24}, 'psi_twenty_four_hourly': {'west': 62, 'east': 57, 'central': 59, 'south': 54, 'north': 53}, 'pm10_twenty_four_hourly': {'west': 34, 'east': 40, 'central': 41, 'south': 30, 'north': 26}, 'pm10_sub_index': {'west': 34, 'east': 40, 'central': 41, 'south': 30, 'north': 26}, 'pm25_twenty_four_hourly': {'west': 22, 'east': 18, 'central': 20, 'south': 14, 'north': 14}, 'so2_sub_index': {'west': 6, 'east': 1, 'central': 4, 'south': 1, 'north': 2}, 'pm25_sub_index': {'west': 62, 'east': 57, 'central': 59, 'south': 54, 'north': 53}, 'so2_twenty_four_hourly': {'west': 10, 'east': 2, 'central': 6, 'south': 2, 'north': 3}, 'co_eight_hour_max': {'west': 0, 'east': 0, 'central': 0, 'south': 0, 'north': 1}, 'co_sub_index': {'west': 4, 'east': 4, 'central': 1, 'south': 3, 'north': 6}}}, {'date': '2024-07-16', 'updatedTimestamp': '2024-07-17T18:17:45+08:00', 'timestamp': '2024-07-16T07:00:00+08:00', 'readings': {'o3_sub_index': {'west': 9, 'east': 14, 'central': 14, 'south': 7, 'north': 11}, 'no2_one_hour_max': {'west': 31, 'east': 17, 'central': 19, 'south': 10, 'north': 19}, 'o3_eight_hour_max': {'west': 21, 'east': 32, 'central': 33, 'south': 17, 'north': 25}, 'psi_twenty_four_hourly': {'west': 62, 'east': 57, 'central': 60, 'south': 54, 'north': 53}, 'pm10_twenty_four_hourly': {'west': 34, 'east': 40, 'central': 42, 'south': 30, 'north': 27}, 'pm10_sub_index': {'west': 34, 'east': 40, 'central': 42, 'south': 30, 'north': 27}, 'pm25_twenty_four_hourly': {'west': 22, 'east': 18, 'central': 20, 'south': 15, 'north': 14}, 'so2_sub_index': {'west': 6, 'east': 1, 'central': 4, 'south': 1, 'north': 2}, 'pm25_sub_index': {'west': 62, 'east': 57, 'central': 60, 'south': 54, 'north': 53}, 'so2_twenty_four_hourly': {'west': 10, 'east': 2, 'central': 6, 'south': 2, 'north': 3}, 'co_eight_hour_max': {'west': 0, 'east': 0, 'central': 0, 'south': 0, 'north': 1}, 'co_sub_index': {'west': 4, 'east': 4, 'central': 1, 'south': 3, 'north': 6}}}, {'date': '2024-07-16', 'updatedTimestamp': '2024-07-17T18:17:44+08:00', 'timestamp': '2024-07-16T06:00:00+08:00', 'readings': {'o3_sub_index': {'west': 9, 'east': 13, 'central': 14, 'south': 7, 'north': 10}, 'no2_one_hour_max': {'west': 33, 'east': 14, 'central': 14, 'south': 11, 'north': 19}, 'o3_eight_hour_max': {'west': 22, 'east': 32, 'central': 34, 'south': 17, 'north': 25}, 'psi_twenty_four_hourly': {'west': 62, 'east': 58, 'central': 60, 'south': 54, 'north': 53}, 'pm10_twenty_four_hourly': {'west': 34, 'east': 41, 'central': 43, 'south': 30, 'north': 28}, 'pm10_sub_index': {'west': 34, 'east': 41, 'central': 43, 'south': 30, 'north': 28}, 'pm25_twenty_four_hourly': {'west': 22, 'east': 18, 'central': 20, 'south': 15, 'north': 14}, 'so2_sub_index': {'west': 6, 'east': 2, 'central': 4, 'south': 1, 'north': 2}, 'pm25_sub_index': {'west': 62, 'east': 58, 'central': 60, 'south': 54, 'north': 53}, 'so2_twenty_four_hourly': {'west': 10, 'east': 3, 'central': 6, 'south': 2, 'north': 3}, 'co_eight_hour_max': {'west': 0, 'east': 0, 'central': 0, 'south': 0, 'north': 1}, 'co_sub_index': {'west': 4, 'east': 4, 'central': 1, 'south': 3, 'north': 7}}}, {'date': '2024-07-16', 'updatedTimestamp': '2024-07-17T18:17:44+08:00', 'timestamp': '2024-07-16T05:00:00+08:00', 'readings': {'o3_sub_index': {'west': 10, 'east': 13, 'central': 14, 'south': 7, 'north': 10}, 'no2_one_hour_max': {'west': 31, 'east': 15, 'central': 14, 'south': 11, 'north': 17}, 'o3_eight_hour_max': {'west': 23, 'east': 32, 'central': 33, 'south': 17, 'north': 24}, 'psi_twenty_four_hourly': {'west': 63, 'east': 58, 'central': 60, 'south': 55, 'north': 54}, 'pm10_twenty_four_hourly': {'west': 35, 'east': 42, 'central': 43, 'south': 30, 'north': 29}, 'pm10_sub_index': {'west': 35, 'east': 42, 'central': 43, 'south': 30, 'north': 29}, 'pm25_twenty_four_hourly': {'west': 23, 'east': 18, 'central': 20, 'south': 15, 'north': 15}, 'so2_sub_index': {'west': 6, 'east': 2, 'central': 4, 'south': 1, 'north': 2}, 'pm25_sub_index': {'west': 63, 'east': 58, 'central': 60, 'south': 55, 'north': 54}, 'so2_twenty_four_hourly': {'west': 10, 'east': 3, 'central': 6, 'south': 2, 'north': 2}, 'co_eight_hour_max': {'west': 0, 'east': 0, 'central': 0, 'south': 0, 'north': 1}, 'co_sub_index': {'west': 4, 'east': 4, 'central': 1, 'south': 3, 'north': 7}}}, {'date': '2024-07-16', 'updatedTimestamp': '2024-07-17T18:17:44+08:00', 'timestamp': '2024-07-16T04:00:00+08:00', 'readings': {'o3_sub_index': {'west': 10, 'east': 13, 'central': 13, 'south': 7, 'north': 10}, 'no2_one_hour_max': {'west': 34, 'east': 13, 'central': 19, 'south': 11, 'north': 20}, 'o3_eight_hour_max': {'west': 24, 'east': 32, 'central': 32, 'south': 18, 'north': 23}, 'psi_twenty_four_hourly': {'west': 64, 'east': 58, 'central': 61, 'south': 55, 'north': 54}, 'pm10_twenty_four_hourly': {'west': 35, 'east': 42, 'central': 44, 'south': 30, 'north': 30}, 'pm10_sub_index': {'west': 35, 'east': 42, 'central': 44, 'south': 30, 'north': 30}, 'pm25_twenty_four_hourly': {'west': 23, 'east': 18, 'central': 21, 'south': 16, 'north': 15}, 'so2_sub_index': {'west': 6, 'east': 2, 'central': 3, 'south': 1, 'north': 2}, 'pm25_sub_index': {'west': 64, 'east': 58, 'central': 61, 'south': 55, 'north': 54}, 'so2_twenty_four_hourly': {'west': 10, 'east': 4, 'central': 5, 'south': 2, 'north': 2}, 'co_eight_hour_max': {'west': 0, 'east': 0, 'central': 0, 'south': 0, 'north': 1}, 'co_sub_index': {'west': 3, 'east': 4, 'central': 2, 'south': 3, 'north': 7}}}, {'date': '2024-07-16', 'updatedTimestamp': '2024-07-17T18:17:43+08:00', 'timestamp': '2024-07-16T03:00:00+08:00', 'readings': {'o3_sub_index': {'west': 11, 'east': 14, 'central': 13, 'south': 8, 'north': 9}, 'no2_one_hour_max': {'west': 25, 'east': 18, 'central': 23, 'south': 12, 'north': 25}, 'o3_eight_hour_max': {'west': 25, 'east': 32, 'central': 31, 'south': 18, 'north': 22}, 'psi_twenty_four_hourly': {'west': 64, 'east': 58, 'central': 61, 'south': 55, 'north': 54}, 'pm10_twenty_four_hourly': {'west': 35, 'east': 42, 'central': 44, 'south': 29, 'north': 31}, 'pm10_sub_index': {'west': 35, 'east': 42, 'central': 44, 'south': 29, 'north': 31}, 'pm25_twenty_four_hourly': {'west': 24, 'east': 18, 'central': 21, 'south': 16, 'north': 15}, 'so2_sub_index': {'west': 6, 'east': 2, 'central': 3, 'south': 1, 'north': 2}, 'pm25_sub_index': {'west': 64, 'east': 58, 'central': 61, 'south': 55, 'north': 54}, 'so2_twenty_four_hourly': {'west': 10, 'east': 4, 'central': 5, 'south': 2, 'north': 2}, 'co_eight_hour_max': {'west': 0, 'east': 0, 'central': 0, 'south': 0, 'north': 1}, 'co_sub_index': {'west': 3, 'east': 4, 'central': 2, 'south': 3, 'north': 7}}}, {'date': '2024-07-16', 'updatedTimestamp': '2024-07-17T18:17:43+08:00', 'timestamp': '2024-07-16T02:00:00+08:00', 'readings': {'o3_sub_index': {'west': 11, 'east': 14, 'central': 13, 'south': 8, 'north': 9}, 'no2_one_hour_max': {'west': 10, 'east': 14, 'central': 22, 'south': 12, 'north': 19}, 'o3_eight_hour_max': {'west': 26, 'east': 33, 'central': 30, 'south': 18, 'north': 22}, 'psi_twenty_four_hourly': {'west': 64, 'east': 58, 'central': 62, 'south': 55, 'north': 54}, 'pm10_twenty_four_hourly': {'west': 35, 'east': 43, 'central': 44, 'south': 30, 'north': 31}, 'pm10_sub_index': {'west': 35, 'east': 43, 'central': 44, 'south': 30, 'north': 31}, 'pm25_twenty_four_hourly': {'west': 24, 'east': 18, 'central': 22, 'south': 16, 'north': 15}, 'so2_sub_index': {'west': 6, 'east': 3, 'central': 3, 'south': 1, 'north': 2}, 'pm25_sub_index': {'west': 64, 'east': 58, 'central': 62, 'south': 55, 'north': 54}, 'so2_twenty_four_hourly': {'west': 10, 'east': 4, 'central': 5, 'south': 2, 'north': 2}, 'co_eight_hour_max': {'west': 0, 'east': 0, 'central': 0, 'south': 0, 'north': 1}, 'co_sub_index': {'west': 3, 'east': 4, 'central': 2, 'south': 3, 'north': 7}}}, {'date': '2024-07-16', 'updatedTimestamp': '2024-07-17T18:17:42+08:00', 'timestamp': '2024-07-16T01:00:00+08:00', 'readings': {'o3_sub_index': {'west': 11, 'east': 15, 'central': 13, 'south': 8, 'north': 10}, 'no2_one_hour_max': {'west': 10, 'east': 26, 'central': 21, 'south': 11, 'north': 23}, 'o3_eight_hour_max': {'west': 25, 'east': 34, 'central': 31, 'south': 19, 'north': 23}, 'psi_twenty_four_hourly': {'west': 64, 'east': 58, 'central': 63, 'south': 56, 'north': 54}, 'pm10_twenty_four_hourly': {'west': 35, 'east': 43, 'central': 44, 'south': 30, 'north': 32}, 'pm10_sub_index': {'west': 35, 'east': 43, 'central': 44, 'south': 30, 'north': 32}, 'pm25_twenty_four_hourly': {'west': 24, 'east': 18, 'central': 22, 'south': 17, 'north': 15}, 'so2_sub_index': {'west': 6, 'east': 3, 'central': 3, 'south': 1, 'north': 2}, 'pm25_sub_index': {'west': 64, 'east': 58, 'central': 63, 'south': 56, 'north': 54}, 'so2_twenty_four_hourly': {'west': 10, 'east': 5, 'central': 5, 'south': 2, 'north': 2}, 'co_eight_hour_max': {'west': 0, 'east': 0, 'central': 0, 'south': 0, 'north': 1}, 'co_sub_index': {'west': 3, 'east': 4, 'central': 2, 'south': 3, 'north': 7}}}, {'date': '2024-07-16', 'updatedTimestamp': '2024-07-17T18:17:42+08:00', 'timestamp': '2024-07-16T00:00:00+08:00', 'readings': {'o3_sub_index': {'west': 11, 'east': 16, 'central': 14, 'south': 9, 'north': 10}, 'no2_one_hour_max': {'west': 18, 'east': 22, 'central': 19, 'south': 12, 'north': 22}, 'o3_eight_hour_max': {'west': 26, 'east': 37, 'central': 32, 'south': 20, 'north': 24}, 'psi_twenty_four_hourly': {'west': 64, 'east': 58, 'central': 63, 'south': 56, 'north': 54}, 'pm10_twenty_four_hourly': {'west': 36, 'east': 42, 'central': 45, 'south': 30, 'north': 32}, 'pm10_sub_index': {'west': 36, 'east': 42, 'central': 45, 'south': 30, 'north': 32}, 'pm25_twenty_four_hourly': {'west': 24, 'east': 18, 'central': 23, 'south': 17, 'north': 15}, 'so2_sub_index': {'west': 6, 'east': 3, 'central': 3, 'south': 1, 'north': 2}, 'pm25_sub_index': {'west': 64, 'east': 58, 'central': 63, 'south': 56, 'north': 54}, 'so2_twenty_four_hourly': {'west': 10, 'east': 5, 'central': 5, 'south': 2, 'north': 2}, 'co_eight_hour_max': {'west': 0, 'east': 0, 'central': 0, 'south': 0, 'north': 1}, 'co_sub_index': {'west': 3, 'east': 4, 'central': 3, 'south': 3, 'north': 6}}}]}, 'errorMsg': ''}\n",
      "    west  east  central  south  north                  timestamp\n",
      "0      3     4        2      3      8  2024-07-16T23:00:00+08:00\n",
      "1      3     4        3      3      8  2024-07-16T22:00:00+08:00\n",
      "2      3     4        3      3      8  2024-07-16T21:00:00+08:00\n",
      "3      3     4        3      3      8  2024-07-16T20:00:00+08:00\n",
      "4      3     4        2      3      8  2024-07-16T19:00:00+08:00\n",
      "5      3     4        2      3      8  2024-07-16T18:00:00+08:00\n",
      "6      3     5        2      3      8  2024-07-16T17:00:00+08:00\n",
      "7      3     5        2      3      7  2024-07-16T16:00:00+08:00\n",
      "8      3     5        2      3      6  2024-07-16T15:00:00+08:00\n",
      "9      4     5        2      3      5  2024-07-16T14:00:00+08:00\n",
      "10     4     5        2      3      5  2024-07-16T13:00:00+08:00\n",
      "11     4     4        2      3      5  2024-07-16T12:00:00+08:00\n",
      "12     4     4        2      3      5  2024-07-16T11:00:00+08:00\n",
      "13     4     4        2      3      5  2024-07-16T10:00:00+08:00\n",
      "14     4     4        1      3      5  2024-07-16T09:00:00+08:00\n",
      "15     4     4        1      3      6  2024-07-16T08:00:00+08:00\n",
      "16     4     4        1      3      6  2024-07-16T07:00:00+08:00\n",
      "17     4     4        1      3      7  2024-07-16T06:00:00+08:00\n",
      "18     4     4        1      3      7  2024-07-16T05:00:00+08:00\n",
      "19     3     4        2      3      7  2024-07-16T04:00:00+08:00\n",
      "20     3     4        2      3      7  2024-07-16T03:00:00+08:00\n",
      "21     3     4        2      3      7  2024-07-16T02:00:00+08:00\n",
      "22     3     4        2      3      7  2024-07-16T01:00:00+08:00\n",
      "23     3     4        3      3      6  2024-07-16T00:00:00+08:00\n"
     ]
    }
   ],
   "source": [
    "import requests\n",
    "import pandas as pd\n",
    "\n",
    "# Step 1: Define the API endpoint\n",
    "\n",
    "url =\"https://api-open.data.gov.sg/v2/real-time/api/psi/?date=2024-07-16\"\n",
    "\n",
    "# Step 2: Make the GET request\n",
    "response = requests.get(url)\n",
    "response.raise_for_status()  # raise error if request failed\n",
    "\n",
    "# Step 3: Parse the JSON response\n",
    "data = response.json()\n",
    "\n",
    "print(data)\n",
    "# Step 4: Extract readings from the first item\n",
    "items = data[\"data\"][\"items\"]\n",
    "readings_list = []\n",
    "\n",
    "for item in items:\n",
    "    date = item[\"timestamp\"]\n",
    "    readings = item[\"readings\"][\"co_sub_index\"]\n",
    "    readings[\"timestamp\"] = date\n",
    "    readings_list.append(readings)\n",
    "\n",
    "# Step 5: Create DataFrame\n",
    "df = pd.DataFrame(readings_list)\n",
    "\n",
    "print(df)"
   ]
  },
  {
   "cell_type": "code",
   "execution_count": null,
   "id": "948cf521",
   "metadata": {},
   "outputs": [
    {
     "name": "stdout",
     "output_type": "stream",
     "text": [
      "0     3\n",
      "1     3\n",
      "2     3\n",
      "3     3\n",
      "4     3\n",
      "5     3\n",
      "6     3\n",
      "7     3\n",
      "8     3\n",
      "9     4\n",
      "10    4\n",
      "11    4\n",
      "12    4\n",
      "13    4\n",
      "14    4\n",
      "15    4\n",
      "16    4\n",
      "17    4\n",
      "18    4\n",
      "19    3\n",
      "20    3\n",
      "21    3\n",
      "22    3\n",
      "23    3\n",
      "Name: west, dtype: int64\n"
     ]
    }
   ],
   "source": [
    "print(df['west'])\n"
   ]
  },
  {
   "cell_type": "code",
   "execution_count": null,
   "id": "1f076521",
   "metadata": {},
   "outputs": [
    {
     "data": {
      "text/plain": [
       "['2024-07-25T23:00:00+08:00',\n",
       " '2024-07-25T22:00:00+08:00',\n",
       " '2024-07-25T21:00:00+08:00',\n",
       " '2024-07-25T20:00:00+08:00',\n",
       " '2024-07-25T19:00:00+08:00',\n",
       " '2024-07-25T18:00:00+08:00',\n",
       " '2024-07-25T17:00:00+08:00',\n",
       " '2024-07-25T16:00:00+08:00',\n",
       " '2024-07-25T15:00:00+08:00',\n",
       " '2024-07-25T14:00:00+08:00',\n",
       " '2024-07-25T13:00:00+08:00',\n",
       " '2024-07-25T12:00:00+08:00',\n",
       " '2024-07-25T11:00:00+08:00',\n",
       " '2024-07-25T10:00:00+08:00',\n",
       " '2024-07-25T09:00:00+08:00',\n",
       " '2024-07-25T08:00:00+08:00',\n",
       " '2024-07-25T07:00:00+08:00',\n",
       " '2024-07-25T06:00:00+08:00',\n",
       " '2024-07-25T05:00:00+08:00',\n",
       " '2024-07-25T04:00:00+08:00',\n",
       " '2024-07-25T03:00:00+08:00',\n",
       " '2024-07-25T02:00:00+08:00',\n",
       " '2024-07-25T01:00:00+08:00',\n",
       " '2024-07-25T00:00:00+08:00']"
      ]
     },
     "execution_count": 27,
     "metadata": {},
     "output_type": "execute_result"
    }
   ],
   "source": [
    "timestamp_index"
   ]
  },
  {
   "cell_type": "code",
   "execution_count": null,
   "id": "27d89e49",
   "metadata": {},
   "outputs": [],
   "source": [
    "import matplotlib.pyplot as plt"
   ]
  },
  {
   "cell_type": "code",
   "execution_count": 80,
   "id": "b92d4ceb",
   "metadata": {},
   "outputs": [
    {
     "data": {
      "text/plain": [
       "0     3\n",
       "1     3\n",
       "2     3\n",
       "3     3\n",
       "4     3\n",
       "5     3\n",
       "6     3\n",
       "7     3\n",
       "8     3\n",
       "9     4\n",
       "10    4\n",
       "11    4\n",
       "12    4\n",
       "13    4\n",
       "14    4\n",
       "15    4\n",
       "16    4\n",
       "17    4\n",
       "18    4\n",
       "19    3\n",
       "20    3\n",
       "21    3\n",
       "22    3\n",
       "23    3\n",
       "Name: west, dtype: int64"
      ]
     },
     "execution_count": 80,
     "metadata": {},
     "output_type": "execute_result"
    }
   ],
   "source": [
    "co_reading = df['west']\n",
    "timestamp = df['timestamp']\n",
    "\n",
    "co_reading\n"
   ]
  },
  {
   "cell_type": "code",
   "execution_count": 81,
   "id": "42447029",
   "metadata": {},
   "outputs": [
    {
     "data": {
      "text/plain": [
       "'2024-07-16T00:00:00+08:00'"
      ]
     },
     "execution_count": 81,
     "metadata": {},
     "output_type": "execute_result"
    }
   ],
   "source": [
    "date"
   ]
  },
  {
   "cell_type": "code",
   "execution_count": 83,
   "id": "2b74c4b9",
   "metadata": {},
   "outputs": [
    {
     "data": {
      "image/png": "[encoded data removed]",
      "text/plain": [
       "<Figure size 640x480 with 1 Axes>"
      ]
     },
     "metadata": {},
     "output_type": "display_data"
    }
   ],
   "source": [
    "\n",
    "import matplotlib.pyplot as plt\n",
    "\n",
    "\n",
    "# Create a line plot\n",
    "plt.plot(timestamp, co_reading)\n",
    "\n",
    "# Add labels and title\n",
    "plt.xticks(rotation=90)\n",
    "plt.xlabel(\"CO reading\")\n",
    "plt.ylabel(\"CO reading\")\n",
    "plt.title(\"Sample Line Plot\")\n",
    "\n",
    "# Show the plot\n",
    "plt.show()\n"
   ]
  }
 ],
 "metadata": {
  "kernelspec": {
   "display_name": "juypter-env",
   "language": "python",
   "name": "python3"
  },
  "language_info": {
   "codemirror_mode": {
    "name": "ipython",
    "version": 3
   },
   "file_extension": ".py",
   "mimetype": "text/x-python",
   "name": "python",
   "nbconvert_exporter": "python",
   "pygments_lexer": "ipython3",
   "version": "3.12.8"
  }
 },
 "nbformat": 4,
 "nbformat_minor": 5
}
